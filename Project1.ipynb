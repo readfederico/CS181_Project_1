{
 "cells": [
  {
   "cell_type": "code",
   "execution_count": 33,
   "metadata": {
    "collapsed": true
   },
   "outputs": [],
   "source": [
    "#Name = \"Xubo Wang\",\"Bella Yang\",\"Fred\"\n"
   ]
  },
  {
   "cell_type": "code",
   "execution_count": 34,
   "metadata": {},
   "outputs": [
    {
     "name": "stdout",
     "output_type": "stream",
     "text": [
      "             Date   Time Time_Zone  Gage_Height  Discharge\n",
      "0      2017/08/01  00:00       EDT          NaN       16.4\n",
      "1      2017/08/01  00:15       EDT          NaN       16.4\n",
      "2      2017/08/01  00:30       EDT          NaN       16.4\n",
      "3      2017/08/01  00:45       EDT          NaN       16.4\n",
      "4      2017/08/01  01:00       EDT          NaN       16.4\n",
      "5      2017/08/01  01:15       EDT          NaN       16.4\n",
      "6      2017/08/01  01:30       EDT          NaN       16.4\n",
      "7      2017/08/01  01:45       EDT          NaN       16.4\n",
      "8      2017/08/01  02:00       EDT          NaN       16.4\n",
      "9      2017/08/01  02:15       EDT          NaN       16.4\n",
      "10     2017/08/01  02:30       EDT          NaN       16.4\n",
      "11     2017/08/01  02:45       EDT          NaN       16.4\n",
      "12     2017/08/01  03:00       EDT          NaN       16.4\n",
      "13     2017/08/01  03:15       EDT          NaN       16.4\n",
      "14     2017/08/01  03:30       EDT          NaN       16.4\n",
      "15     2017/08/01  03:45       EDT          NaN       16.4\n",
      "16     2017/08/01  04:00       EDT          NaN       16.4\n",
      "17     2017/08/01  04:15       EDT          NaN       16.4\n",
      "18     2017/08/01  04:30       EDT          NaN       16.4\n",
      "19     2017/08/01  04:45       EDT          NaN       16.4\n",
      "20     2017/08/01  05:00       EDT          NaN       16.4\n",
      "21     2017/08/01  05:15       EDT          NaN       16.4\n",
      "22     2017/08/01  05:30       EDT          NaN       16.4\n",
      "23     2017/08/01  05:45       EDT          NaN       16.4\n",
      "24     2017/08/01  06:00       EDT          NaN       16.4\n",
      "25     2017/08/01  06:15       EDT          NaN       16.4\n",
      "26     2017/08/01  06:30       EDT          NaN       16.4\n",
      "27     2017/08/01  06:45       EDT          NaN       16.4\n",
      "28     2017/08/01  07:00       EDT          NaN       16.4\n",
      "29     2017/08/01  07:15       EDT          NaN       16.4\n",
      "...           ...    ...       ...          ...        ...\n",
      "34719  2018/08/01  16:30       EDT         3.33       19.7\n",
      "34720  2018/08/01  16:45       EDT         3.33       19.7\n",
      "34721  2018/08/01  17:00       EDT         3.33       19.7\n",
      "34722  2018/08/01  17:15       EDT         3.33       19.7\n",
      "34723  2018/08/01  17:30       EDT         3.33       19.7\n",
      "34724  2018/08/01  17:45       EDT         3.33       19.7\n",
      "34725  2018/08/01  18:00       EDT         3.33       19.7\n",
      "34726  2018/08/01  18:15       EDT         3.32       19.0\n",
      "34727  2018/08/01  18:30       EDT         3.32       19.0\n",
      "34728  2018/08/01  18:45       EDT         3.32       19.0\n",
      "34729  2018/08/01  19:00       EDT         3.32       19.0\n",
      "34730  2018/08/01  19:15       EDT         3.32       19.0\n",
      "34731  2018/08/01  19:30       EDT         3.32       19.0\n",
      "34732  2018/08/01  19:45       EDT         3.32       19.0\n",
      "34733  2018/08/01  20:00       EDT         3.32       19.0\n",
      "34734  2018/08/01  20:15       EDT         3.32       19.0\n",
      "34735  2018/08/01  20:30       EDT         3.32       19.0\n",
      "34736  2018/08/01  20:45       EDT         3.32       19.0\n",
      "34737  2018/08/01  21:00       EDT         3.31       18.3\n",
      "34738  2018/08/01  21:15       EDT         3.31       18.3\n",
      "34739  2018/08/01  21:30       EDT         3.31       18.3\n",
      "34740  2018/08/01  21:45       EDT         3.31       18.3\n",
      "34741  2018/08/01  22:00       EDT         3.31       18.3\n",
      "34742  2018/08/01  22:15       EDT         3.31       18.3\n",
      "34743  2018/08/01  22:30       EDT         3.31       18.3\n",
      "34744  2018/08/01  22:45       EDT         3.31       18.3\n",
      "34745  2018/08/01  23:00       EDT         3.31       18.3\n",
      "34746  2018/08/01  23:15       EDT         3.31       18.3\n",
      "34747  2018/08/01  23:30       EDT         3.31       18.3\n",
      "34748  2018/08/01  23:45       EDT         3.30       17.7\n",
      "\n",
      "[34749 rows x 5 columns]\n"
     ]
    }
   ],
   "source": [
    "import pandas as pd\n",
    "raw = pd.read_csv('RaccoonCreekFlowData.txt', sep = '\\t', skiprows = 31)\n",
    "raw = raw.rename(columns = {'agency_cd':'agency','site_no':'site_Number','tz_cd':'Time_Zone','110246_00065':'Gage_Height','110247_00060':'Discharge','110248_00045':'Precipitation'})\n",
    "\n",
    "#drop the columns with qualification codes and the column of precipitation with no data\n",
    "raw = raw.drop(['110246_00065_cd','110247_00060_cd','110248_00045_cd','Precipitation','agency','site_Number'],axis=1)\n",
    "\n",
    "raw['Date'] = raw['datetime'].str.split(' ').str.get(0) \n",
    "raw['Time'] = raw['datetime'].str.split(' ').str.get(1)\n",
    "raw = raw.drop(['datetime'],axis=1)\n",
    "raw = raw[['Date','Time','Time_Zone','Gage_Height','Discharge']]\n",
    "raw['Date'] = raw['Date'].str.replace('-','/')\n",
    "\n",
    "print(raw)\n"
   ]
  },
  {
   "cell_type": "code",
   "execution_count": null,
   "metadata": {
    "collapsed": true
   },
   "outputs": [],
   "source": []
  }
 ],
 "metadata": {
  "kernelspec": {
   "display_name": "Python 3",
   "language": "python",
   "name": "python3"
  },
  "language_info": {
   "codemirror_mode": {
    "name": "ipython",
    "version": 3
   },
   "file_extension": ".py",
   "mimetype": "text/x-python",
   "name": "python",
   "nbconvert_exporter": "python",
   "pygments_lexer": "ipython3",
   "version": "3.6.3"
  }
 },
 "nbformat": 4,
 "nbformat_minor": 2
}
