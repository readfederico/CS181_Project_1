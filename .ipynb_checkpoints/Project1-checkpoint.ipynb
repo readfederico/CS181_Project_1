{
 "cells": [
  {
   "cell_type": "code",
   "execution_count": 33,
   "metadata": {
    "collapsed": true
   },
   "outputs": [],
   "source": [
    "#Name = \"Xubo Wang\",\"Bella Yang\",\"Fred\"\n"
   ]
  },
  {
   "cell_type": "code",
   "execution_count": 36,
   "metadata": {},
   "outputs": [
    {
     "name": "stdout",
     "output_type": "stream",
     "text": [
      "          Gage_Height   Discharge\n",
      "Date                             \n",
      "01/01/18         -1.0   26.896875\n",
      "01/02/18         -1.0   24.590625\n",
      "01/03/18         -1.0   22.806250\n",
      "01/04/18         -1.0   24.923958\n",
      "01/05/18         -1.0   23.076042\n",
      "01/06/18         -1.0   20.472917\n",
      "01/07/18         -1.0   18.850000\n",
      "01/08/18         -1.0   20.863542\n",
      "01/09/18         -1.0   23.093750\n",
      "01/10/18         -1.0   24.626042\n",
      "01/11/18         -1.0  185.414583\n",
      "01/12/18         -1.0  895.041667\n",
      "01/13/18         -1.0  416.375000\n",
      "01/14/18         -1.0  171.187500\n",
      "01/15/18         -1.0  131.958333\n",
      "01/16/18         -1.0  101.223810\n",
      "01/17/18         -1.0   70.133333\n",
      "01/18/18         -1.0   63.883333\n",
      "01/19/18         -1.0   58.548077\n",
      "01/20/18         -1.0   55.012500\n",
      "01/21/18         -1.0  157.928125\n",
      "01/22/18         -1.0  695.989583\n",
      "01/23/18         -1.0  615.989583\n",
      "01/24/18         -1.0  230.572917\n",
      "01/25/18         -1.0  140.406250\n",
      "01/26/18         -1.0  110.656250\n",
      "01/27/18         -1.0  203.616667\n",
      "01/28/18         -1.0  400.770833\n",
      "01/29/18         -1.0  168.218750\n",
      "01/30/18         -1.0  115.858333\n",
      "...               ...         ...\n",
      "12/02/17         -1.0   38.464583\n",
      "12/03/17         -1.0   35.984375\n",
      "12/04/17         -1.0   33.172632\n",
      "12/05/17         -1.0   96.628125\n",
      "12/06/17         -1.0  104.878125\n",
      "12/07/17         -1.0   66.067708\n",
      "12/08/17         -1.0   50.640625\n",
      "12/09/17         -1.0   43.710417\n",
      "12/10/17         -1.0   40.651042\n",
      "12/11/17         -1.0   37.759375\n",
      "12/12/17         -1.0   37.338542\n",
      "12/13/17         -1.0   32.166667\n",
      "12/14/17         -1.0   30.637500\n",
      "12/15/17         -1.0   26.621875\n",
      "12/16/17         -1.0   25.855208\n",
      "12/17/17         -1.0   25.857292\n",
      "12/18/17         -1.0   26.379167\n",
      "12/19/17         -1.0   27.591667\n",
      "12/20/17         -1.0   26.631250\n",
      "12/21/17         -1.0   24.705208\n",
      "12/22/17         -1.0   24.142708\n",
      "12/23/17         -1.0  220.159375\n",
      "12/24/17         -1.0  204.895833\n",
      "12/25/17         -1.0  111.018750\n",
      "12/26/17         -1.0   67.847917\n",
      "12/27/17         -1.0   50.180208\n",
      "12/28/17         -1.0   41.677083\n",
      "12/29/17         -1.0   37.371875\n",
      "12/30/17         -1.0   35.629167\n",
      "12/31/17         -1.0   31.175000\n",
      "\n",
      "[366 rows x 2 columns]\n"
     ]
    }
   ],
   "source": [
    "import pandas as pd\n",
    "\n",
    "def dateFix(oldDate):\n",
    "    newDate = oldDate[3:]+ '/'+ oldDate[:2]\n",
    "    return(newDate)\n",
    "def nanchange(item):\n",
    "    if (item != item):\n",
    "        item = -1\n",
    "    return (item)\n",
    "\n",
    "raw = pd.read_csv('RaccoonCreekFlowData.txt', sep = '\\t', skiprows = 31)\n",
    "raw = raw.rename(columns = {'agency_cd':'agency','site_no':'site_Number','tz_cd':'Time_Zone','110246_00065':'Gage_Height','110247_00060':'Discharge','110248_00045':'Precipitation'})\n",
    "\n",
    "#drop the columns with qualification codes and the column of precipitation with no data\n",
    "raw = raw.drop(['110246_00065_cd','110247_00060_cd','110248_00045_cd','Precipitation','agency','site_Number'],axis=1)\n",
    "\n",
    "#split date and time\n",
    "raw['Date'] = raw['datetime'].str.split(' ').str.get(0) \n",
    "raw['Time'] = raw['datetime'].str.split(' ').str.get(1)\n",
    "raw = raw.drop(['datetime'],axis=1)\n",
    "raw = raw[['Date','Time','Time_Zone','Gage_Height','Discharge']]\n",
    "\n",
    "#modify date to match precipitation\n",
    "raw2 = raw.copy()\n",
    "raw2['Date'] = raw2['Date'].str.replace('-','/')\n",
    "raw2['Date'] = raw2['Date'].str.replace('2017/','17/')\n",
    "raw2['Date'] = raw2['Date'].str.replace('2018/','18/')\n",
    "raw2['Date'] = raw2['Date'].apply(dateFix)\n",
    "\n",
    "#convert NaN into -1\n",
    "raw3 = raw2.copy()\n",
    "raw3['Gage_Height'] = raw3['Gage_Height'].apply(nanchange)\n",
    "print(raw3)\n",
    "\n",
    "#average out discharge and gage height\n",
    "#raw4 = raw3.groupby(by='Date').agg('mean')\n",
    "#print(raw4)\n",
    "#print(avgScore)\n",
    "\n"
   ]
  },
  {
   "cell_type": "code",
   "execution_count": null,
   "metadata": {
    "collapsed": true
   },
   "outputs": [],
   "source": []
  }
 ],
 "metadata": {
  "kernelspec": {
   "display_name": "Python 3",
   "language": "python",
   "name": "python3"
  },
  "language_info": {
   "codemirror_mode": {
    "name": "ipython",
    "version": 3
   },
   "file_extension": ".py",
   "mimetype": "text/x-python",
   "name": "python",
   "nbconvert_exporter": "python",
   "pygments_lexer": "ipython3",
   "version": "3.6.5"
  }
 },
 "nbformat": 4,
 "nbformat_minor": 2
}
